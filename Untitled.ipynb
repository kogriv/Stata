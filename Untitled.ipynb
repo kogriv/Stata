{
 "cells": [
  {
   "cell_type": "markdown",
   "id": "c817e7e3",
   "metadata": {},
   "source": [
    "Суммируя эти два ожидания, получаем:\n",
    "\n",
    "$ \n",
    "\\mathbb{E}[W] = \\frac{3}{8} + \\frac{1}{4} = \\frac{3}{8} + \\frac{2}{8} = \\frac{5}{8} = 0.625. \n",
    "$\n",
    "\n",
    "Таким образом,"
   ]
  },
  {
   "cell_type": "code",
   "execution_count": null,
   "id": "c92dc1d1",
   "metadata": {},
   "outputs": [],
   "source": []
  }
 ],
 "metadata": {
  "kernelspec": {
   "display_name": "Python 3 (ipykernel)",
   "language": "python",
   "name": "python3"
  },
  "language_info": {
   "codemirror_mode": {
    "name": "ipython",
    "version": 3
   },
   "file_extension": ".py",
   "mimetype": "text/x-python",
   "name": "python",
   "nbconvert_exporter": "python",
   "pygments_lexer": "ipython3",
   "version": "3.10.9"
  }
 },
 "nbformat": 4,
 "nbformat_minor": 5
}
