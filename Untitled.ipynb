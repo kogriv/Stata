{
 "cells": [
  {
   "cell_type": "markdown",
   "id": "15d6536d",
   "metadata": {},
   "source": [
    "### Дано:\n",
    "- Вероятность того, что москвич говорит правду $P(B|A)$: $\\frac{3}{5}$.\n",
    "- Вероятность того, что москвич обманывает (\\(P(B|\\neg A)\\)): \\(\\frac{2}{5}\\).\n",
    "- Вероятность дождливого дня в Москве (\\(P(A)\\)): \\(\\frac{30}{365}\\).\n",
    "- Вероятность сухого дня (\\(P(\\neg A)\\)): \\(\\frac{335}{365}\\)."
   ]
  },
  {
   "cell_type": "code",
   "execution_count": null,
   "id": "7d3177d5",
   "metadata": {},
   "outputs": [],
   "source": []
  }
 ],
 "metadata": {
  "kernelspec": {
   "display_name": "Python 3 (ipykernel)",
   "language": "python",
   "name": "python3"
  },
  "language_info": {
   "codemirror_mode": {
    "name": "ipython",
    "version": 3
   },
   "file_extension": ".py",
   "mimetype": "text/x-python",
   "name": "python",
   "nbconvert_exporter": "python",
   "pygments_lexer": "ipython3",
   "version": "3.10.9"
  }
 },
 "nbformat": 4,
 "nbformat_minor": 5
}
